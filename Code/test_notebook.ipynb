{
 "cells": [
  {
   "cell_type": "code",
   "execution_count": 1,
   "id": "2722f97c-019a-44c5-a947-4d342ef9fda8",
   "metadata": {},
   "outputs": [],
   "source": [
    "# Import dependencies\n",
    "import bit\n",
    "from bit.network import NetworkAPI\n",
    "import lit\n",
    "from web3 import Web3\n",
    "from web3.middleware import geth_poa_middleware\n",
    "from eth_account import Account\n",
    "import subprocess\n",
    "import json\n",
    "import os\n",
    "from dotenv import load_dotenv\n",
    "from constants import *"
   ]
  },
  {
   "cell_type": "code",
   "execution_count": 2,
   "id": "c8b4a0c3-5143-4de7-9a27-307597e55591",
   "metadata": {},
   "outputs": [],
   "source": [
    "# Load and set environment variables\n",
    "load_dotenv()\n",
    "mnemonic=os.getenv(\"mnemonic\")"
   ]
  },
  {
   "cell_type": "code",
   "execution_count": 3,
   "id": "5c66d4c0-e6f6-4cb4-a4ae-2570cd08f053",
   "metadata": {},
   "outputs": [
    {
     "data": {
      "text/plain": [
       "True"
      ]
     },
     "execution_count": 3,
     "metadata": {},
     "output_type": "execute_result"
    }
   ],
   "source": [
    "# Connects to private ETH POA blockchain\n",
    "w3 = Web3(Web3.HTTPProvider('http://127.0.0.1:8181'))\n",
    "w3.isConnected()"
   ]
  },
  {
   "cell_type": "code",
   "execution_count": 4,
   "id": "cf896166-1134-446b-85bc-a23575b0ac26",
   "metadata": {},
   "outputs": [],
   "source": [
    "w3.middleware_onion.inject(geth_poa_middleware, layer=0)"
   ]
  },
  {
   "cell_type": "code",
   "execution_count": 5,
   "id": "04497a87-b271-49ad-965a-29ffd7b2e17e",
   "metadata": {},
   "outputs": [],
   "source": [
    "# Create a function called `derive_wallets`\n",
    "def derive_wallets(coin):\n",
    "    cols = 'address,index,path,privkey,pubkey,pubkeyhash,xprv,xpub'\n",
    "    command = f'derive --mnemonic=mnemonic --cols={cols} --coin={coin} --numderive=3 --format=json -g'\n",
    "    p = subprocess.Popen(command, stdout=subprocess.PIPE, shell=True)\n",
    "    output, err = p.communicate()\n",
    "    p_status = p.wait()\n",
    "    return json.loads(output)"
   ]
  },
  {
   "cell_type": "code",
   "execution_count": 6,
   "id": "8f15de43-8352-4b5f-a237-98e72df139e7",
   "metadata": {},
   "outputs": [],
   "source": [
    "coins = {BTCTEST: derive_wallets(BTCTEST), ETH: derive_wallets(ETH)}"
   ]
  },
  {
   "cell_type": "code",
   "execution_count": 7,
   "id": "c99486af-0a05-4047-979b-a40436fceff6",
   "metadata": {},
   "outputs": [],
   "source": [
    "# coins = {BTCTEST: derive_wallets(BTCTEST), ETH: derive_wallets(ETH), BTC: derive_wallets(BTC), LTC: derive_wallets(LTC)}"
   ]
  },
  {
   "cell_type": "code",
   "execution_count": 8,
   "id": "f0369a6d-94ee-4e50-bcda-6545986434b5",
   "metadata": {},
   "outputs": [],
   "source": [
    "eth0_pk = coins['eth'][0]['privkey']\n",
    "eth1_pk = coins['eth'][1]['privkey']\n",
    "eth2_pk = coins['eth'][2]['privkey']\n",
    "btctest0_pk = coins[BTCTEST][0]['privkey']\n",
    "btctest1_pk = coins[BTCTEST][1]['privkey']\n",
    "btctest2_pk = coins[BTCTEST][2]['privkey']"
   ]
  },
  {
   "cell_type": "code",
   "execution_count": 9,
   "id": "aa8e0afb-7260-48c3-bd70-a5df01b95d3c",
   "metadata": {},
   "outputs": [],
   "source": [
    "# Checks which coin then returns address from supplied private key\n",
    "def priv_key_to_account(coin, priv_key):\n",
    "    if coin == ETH:\n",
    "        return Account.privateKeyToAccount(priv_key)\n",
    "    elif coin == BTCTEST:\n",
    "        return bit.PrivateKeyTestnet(priv_key)\n",
    "#     elif coin == LTC:\n",
    "#         return lit.PrivateKeyTestnet(priv_key)"
   ]
  },
  {
   "cell_type": "code",
   "execution_count": 10,
   "id": "68d429ad-eecf-4a7b-a8d0-9ee82ace5705",
   "metadata": {},
   "outputs": [
    {
     "data": {
      "text/plain": [
       "<eth_account.signers.local.LocalAccount at 0x7fb24a9b1a90>"
      ]
     },
     "execution_count": 10,
     "metadata": {},
     "output_type": "execute_result"
    }
   ],
   "source": [
    "priv_key_to_account(ETH, eth1_pk)"
   ]
  },
  {
   "cell_type": "code",
   "execution_count": 11,
   "id": "0ee8bb37-f0b5-4d25-97e7-9b172293aa5d",
   "metadata": {},
   "outputs": [],
   "source": [
    "def create_tx(coin, account, recipient, amount):\n",
    "    if coin == ETH:\n",
    "        account = priv_key_to_account(coin, account)\n",
    "        gasEstimate = w3.eth.estimateGas(\n",
    "            {\"from\": account.address, \"to\": recipient, \"value\": amount}\n",
    "        )\n",
    "        return {\n",
    "            \"chainId\": 888,\n",
    "            \"from\": account.address,\n",
    "            \"to\": recipient,\n",
    "            \"value\": amount,\n",
    "            \"gasPrice\": w3.eth.gasPrice,\n",
    "            \"gas\": gasEstimate,\n",
    "            \"nonce\": w3.eth.getTransactionCount(account.address),\n",
    "        }, account\n",
    "    elif coin == BTCTEST:\n",
    "        account = priv_key_to_account(coin, account)\n",
    "        return bit.PrivateKeyTestnet.prepare_transaction(account.address, [(recipient, amount, BTC)]), account\n",
    "\n",
    "def send_tx(coin, account, recipient, amount):\n",
    "    tx, account = create_tx(coin, account, recipient, amount)\n",
    "    signed_tx = account.sign_transaction(tx)\n",
    "    if coin == ETH:\n",
    "        result = w3.eth.sendRawTransaction(signed_tx.rawTransaction)\n",
    "        return result\n",
    "    elif coin == BTCTEST:\n",
    "        result = NetworkAPI.broadcast_tx_testnet(signed_tx)\n",
    "        return result"
   ]
  },
  {
   "cell_type": "code",
   "execution_count": 15,
   "id": "8f99cb96-c58c-461e-a96b-29229ceece67",
   "metadata": {},
   "outputs": [
    {
     "data": {
      "text/plain": [
       "HexBytes('0x154bf822eb205086b012f6f1998b6405bd7d02a18b78fa1473ab82298bbb10c7')"
      ]
     },
     "execution_count": 15,
     "metadata": {},
     "output_type": "execute_result"
    }
   ],
   "source": [
    "send_tx(ETH, eth0_pk, '0x926841419b49910D80fCEa75d587BE3aefFf560e', Web3.toWei(10, 'ether'))"
   ]
  },
  {
   "cell_type": "code",
   "execution_count": 18,
   "id": "2f9f707b-be42-4ccd-9e26-50fcc494b971",
   "metadata": {},
   "outputs": [
    {
     "data": {
      "text/plain": [
       "HexBytes('0xf05b140675927f8b7047e853b0adcaac3fd2b2d5b01574013f51236d022eb9b9')"
      ]
     },
     "execution_count": 18,
     "metadata": {},
     "output_type": "execute_result"
    }
   ],
   "source": [
    "send_tx(ETH, coins[ETH][0]['privkey'], coins[ETH][2]['address'], Web3.toWei(1, 'ether'))"
   ]
  },
  {
   "cell_type": "code",
   "execution_count": 19,
   "id": "7e9c047b-0c7e-40c4-8e73-e5fbd8eef0d1",
   "metadata": {},
   "outputs": [],
   "source": [
    "send_tx(BTCTEST, coins[BTCTEST][0]['privkey'], coins[BTCTEST][2]['address'], .0001)"
   ]
  },
  {
   "cell_type": "code",
   "execution_count": 14,
   "id": "f015051c-6b3a-4fd2-b378-21daf767e1bb",
   "metadata": {},
   "outputs": [
    {
     "data": {
      "text/plain": [
       "{'btc-test': [{'address': 'mtgb9hthmFpY1zidrYmZ24eTF87aBA147h',\n",
       "   'index': 0,\n",
       "   'path': \"m/44'/1'/0'/0/0\",\n",
       "   'privkey': 'cVAgDoahzo5Ucdv8ioxxubvmE6LfU3ZQgJ21UvY4eC1xi6WkvnXe',\n",
       "   'pubkey': '0339b281b12687c70a024ef409229b55d404533b4e9a475dc9d3883c0172913fb6',\n",
       "   'pubkeyhash': '906c250da82c2bd3edf9bcbbbb29f2188065f9d2',\n",
       "   'xprv': 'tprv8kmimjp9GYq9EvcrxozEhxzk9jGwaC73BSiy3ATqwwikM4YgH7685zQLzX7xzXAmhXxf5LZbpbqtSGX3fcNFbfVJdxuEYPrA5tDRRQgwPRm',\n",
       "   'xpub': 'tpubDHTkv9rPQvWp8PeerTeq7NeriknsjXHwkkKkKgW9NDX9BYoSuVuiGV2DAejLNv85zVm31akUTVk6Z8MyhECbWDzQ3Qir4GoRCXfBgKk8GxA'},\n",
       "  {'address': 'mxwSU31v1NtbUi6Pc5bN9BgmmAGw13JdvX',\n",
       "   'index': 1,\n",
       "   'path': \"m/44'/1'/0'/0/1\",\n",
       "   'privkey': 'cRG5vrAkkq3ZkTmT2mmqCgbxd8niBdXx3ocDMd1771oSzJDvqXiC',\n",
       "   'pubkey': '02f4468eae06b195a4f83cc63d680d015d512af60288977e0283fd4299bfcde24b',\n",
       "   'pubkeyhash': 'bf1ba366dd65a4824c22f497bbff1fae89007841',\n",
       "   'xprv': 'tprv8kmimjp9GYq9FvSyaAKU2MY38GBpiMHEsjgMtnLaMhyZQPzAiEM6ZTC8z9vdTsJVRQDcoCvLeWEHiPWWLpiGMjoYcffLhXJXNbJawYjKTof',\n",
       "   'xpub': 'tpubDHTkv9rPQvWp9PUmToz4RmC9hHhksgU9T3H9BJNsmymxEtEwLdAgjwp1AHtm7kbkbHvsC3zA3cjHi6DAFtGCvFMgY961mo7mg5ABBu21126'},\n",
       "  {'address': 'n2QTqdWK96XyJ7o8LXqoCjNbmtrFNFbNb6',\n",
       "   'index': 2,\n",
       "   'path': \"m/44'/1'/0'/0/2\",\n",
       "   'privkey': 'cUMUWn4yukMK41LpebaCmnbH26XCQn9EDoSK753FxSNxQC77i5TU',\n",
       "   'pubkey': '03c486d31c700f8342f6dac13fffaab4d44c492637042659ae2922846c89077101',\n",
       "   'pubkeyhash': 'e5206464e15c29f28f54678782a909be5954f6cc',\n",
       "   'xprv': 'tprv8kmimjp9GYq9JExZDMjKjYhzHGQwQHVmMh2cRP5BLMAgCbw7fNgDssZJCujBDau2t2PEzddu8QApnrgnhzktN4LT8BXEM7HDSrxMHM6XasY',\n",
       "   'xpub': 'tpubDHTkv9rPQvWpBhzM71Pv8xN6rHvsZcgfvzdPhu7Ukcy536BtHmVp4NBAP4aP5Laycoz7Shaprf1xgAyBrZdGuoDWUFcrPc3UuiqRTBcQnxt'}],\n",
       " 'eth': [{'address': '0x3De0A2fD4A90f9A160ebb2B8711192D1F0eB339D',\n",
       "   'index': 0,\n",
       "   'path': \"m/44'/60'/0'/0/0\",\n",
       "   'privkey': '0x82d63adc8be924a92ef77c6e3286c4e80eaebad63ba2b91c27801a62ba2f9410',\n",
       "   'pubkey': '02c93d99b9686cabed081f1eb262b81a435ae2816ba940e0fea550a36603d8077b',\n",
       "   'pubkeyhash': 'a90e4da9a141168d3e0ac3821015190a79df729c',\n",
       "   'xprv': 'xprvA3W3uzhjas8mpZrqS7oW9ar2SWxLGhwcPFT7S2j7VM8e9PbaYcfSJo4aDdsjd7yi9iPcKkvxg7TzmeNJniz84Y4rYgTaarwiMk66gZNwj3P',\n",
       "   'xpub': 'xpub6GVQKWEdREh533wJY9LWWinkzYnpgAfTkUNiER8j3gfd2Bvj69ygrbP44uSWSEu9BwzQ2mboHQp17puXxT3y9xnXCt256vtjkzV2caX1xeT'},\n",
       "  {'address': '0xc5557310a53b90f18E926431B1896c29Df0dcc1a',\n",
       "   'index': 1,\n",
       "   'path': \"m/44'/60'/0'/0/1\",\n",
       "   'privkey': '0xf0c147a367c5732f750e0dc072540f71ec3e3a87fafee9e7516982861e9e259e',\n",
       "   'pubkey': '0299b67384c634d60ac57d9efc57a93b3a2d87b9eb63e3025652de882c269f2480',\n",
       "   'pubkeyhash': '8703eefc2cdcf91b844d7ec8090d2e89d092de58',\n",
       "   'xprv': 'xprvA3W3uzhjas8msDSBJH94x7mqj53hfhCweGzWNRqsHamAi3MrZh4cDT4VywH5UH7UboqUbVazKeEn9gLy7TgeMbtWSuyYk852kBG75GZmB4r',\n",
       "   'xpub': 'xpub6GVQKWEdREh55hWeQJg5KFiaH6tC59vo1Vv7ApFUqvJ9aqh17ENrmFNyqBeWXxBLL8hxPeeUw4A8HfovbNetZcGkNj6p1VoJiDt4UJ3L9RU'},\n",
       "  {'address': '0x926841419b49910D80fCEa75d587BE3aefFf560e',\n",
       "   'index': 2,\n",
       "   'path': \"m/44'/60'/0'/0/2\",\n",
       "   'privkey': '0x356c8dd425cf9714114bf73751c13d1ad34f4012e2ac37e564b0aaee238a0d2a',\n",
       "   'pubkey': '02fb003f8b9fd2e765b5c64b7f47832bc46ff818807e7903262c03a29d2b983f6a',\n",
       "   'pubkeyhash': '53c13c213c11034e676536944ec4f2cb5fb0b3c0',\n",
       "   'xprv': 'xprvA3W3uzhjas8mvbJ4eX1qKPXK7osvsQXSezDFvPW3dEpbJZ35xaJXxBdpPcrXDrqror7a2McmYr5HbL5Xiag834qfBkvhY5YvLKe3MPxFbch',\n",
       "   'xpub': 'xpub6GVQKWEdREh595NXkYYqgXU3fqiRGsFJ2D8rimufBaMaBMNEW7cnVyxJEuPJW5HNqmbaVUfxVVhvPxd4SmjitFxyEY2YJHeF2GXfz5Q8yRb'}]}"
      ]
     },
     "execution_count": 14,
     "metadata": {},
     "output_type": "execute_result"
    }
   ],
   "source": [
    "coins"
   ]
  },
  {
   "cell_type": "code",
   "execution_count": null,
   "id": "d8bca127-b96e-4077-a94a-5a3ecee2f945",
   "metadata": {},
   "outputs": [],
   "source": []
  }
 ],
 "metadata": {
  "kernelspec": {
   "display_name": "Python 3",
   "language": "python",
   "name": "python3"
  },
  "language_info": {
   "codemirror_mode": {
    "name": "ipython",
    "version": 3
   },
   "file_extension": ".py",
   "mimetype": "text/x-python",
   "name": "python",
   "nbconvert_exporter": "python",
   "pygments_lexer": "ipython3",
   "version": "3.9.5"
  }
 },
 "nbformat": 4,
 "nbformat_minor": 5
}
